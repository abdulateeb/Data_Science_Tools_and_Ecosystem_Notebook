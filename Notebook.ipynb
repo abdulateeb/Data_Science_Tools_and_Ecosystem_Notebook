{
 "cells": [
  {
   "cell_type": "markdown",
   "id": "f1e074ac-5bc2-4251-9d7b-b7ef20644d18",
   "metadata": {},
   "source": [
    "# Data Science Tools and Ecosystem\r\n"
   ]
  },
  {
   "cell_type": "markdown",
   "id": "7456e8d7-53fa-4010-850e-6cecee4671ef",
   "metadata": {},
   "source": [
    "## Introduction\r\n",
    "In this notebook, Data Science Tools and Ecosystem are summarized.\r\n"
   ]
  },
  {
   "cell_type": "markdown",
   "id": "72a11261-230b-447b-8524-4015bb483923",
   "metadata": {},
   "source": [
    "## Data Science Languages\r\n",
    "Some of the popular languages that Data Scientists use are:\r\n",
    "1. Python\r\n",
    "2. R\r\n",
    "3. SQL\r\n"
   ]
  },
  {
   "cell_type": "markdown",
   "id": "67cdd4d2-666e-49d3-8953-3d058405a520",
   "metadata": {},
   "source": [
    "## Data Science Libraries\r\n",
    "Some of the commonly used libraries used by Data Scientists include:\r\n",
    "1. Pandas\r\n",
    "2. NumPy\r\n",
    "3. Scikit-learn\r\n"
   ]
  },
  {
   "cell_type": "markdown",
   "id": "c18f35f2-7dbb-48e6-8663-868b3597914d",
   "metadata": {},
   "source": [
    "## Data Science Tools\r\n",
    "\r\n",
    "| Data Science Tools |\r\n",
    "|--------------------|\r\n",
    "| Jupyter Notebook   |\r\n",
    "| GitHub             |\r\n",
    "| RStudio            |\r\n"
   ]
  },
  {
   "cell_type": "markdown",
   "id": "64e6b4a1-964a-4ad6-8fd2-f1acdcfd38ee",
   "metadata": {},
   "source": [
    "### Arithmetic Expression Examples\r\n",
    "Below are a few examples of evaluating arithmetic expressions in Python.\r\n"
   ]
  },
  {
   "cell_type": "code",
   "execution_count": 1,
   "id": "0d946b45-7ee0-4b1a-842f-4605d886ade4",
   "metadata": {},
   "outputs": [
    {
     "data": {
      "text/plain": [
       "17"
      ]
     },
     "execution_count": 1,
     "metadata": {},
     "output_type": "execute_result"
    }
   ],
   "source": [
    "# This is a simple arithmetic expression to multiply then add integers\n",
    "result = (3 * 4) + 5\n",
    "result\n"
   ]
  },
  {
   "cell_type": "code",
   "execution_count": 2,
   "id": "a1302e44-a760-440a-8f34-c36885aa7d8f",
   "metadata": {},
   "outputs": [
    {
     "data": {
      "text/plain": [
       "3.3333333333333335"
      ]
     },
     "execution_count": 2,
     "metadata": {},
     "output_type": "execute_result"
    }
   ],
   "source": [
    "# This will convert 200 minutes to hours by dividing by 60\n",
    "minutes = 200\n",
    "hours = minutes / 60\n",
    "hours\n"
   ]
  },
  {
   "cell_type": "markdown",
   "id": "7430aae7-9219-4f1d-9e49-3f55a88e9f65",
   "metadata": {},
   "source": [
    "## Objectives\r\n",
    "**Objectives:**\r\n",
    "- List popular languages for Data Science.\r\n",
    "- List commonly used libraries in Data Science.\r\n",
    "- Demonstrate simple arithmetic operations in Python.\r\n",
    "- Convert minutes to hours in Python.\r\n"
   ]
  },
  {
   "cell_type": "markdown",
   "id": "ea047665-94a3-4ebc-b913-4759fb1c8365",
   "metadata": {},
   "source": [
    "## Author\r\n",
    "Abdul Ateeb\r\n"
   ]
  },
  {
   "cell_type": "code",
   "execution_count": null,
   "id": "7bb655ab-2735-4a81-a603-1fa6d724758a",
   "metadata": {},
   "outputs": [],
   "source": []
  }
 ],
 "metadata": {
  "kernelspec": {
   "display_name": "Python 3 (ipykernel)",
   "language": "python",
   "name": "python3"
  },
  "language_info": {
   "codemirror_mode": {
    "name": "ipython",
    "version": 3
   },
   "file_extension": ".py",
   "mimetype": "text/x-python",
   "name": "python",
   "nbconvert_exporter": "python",
   "pygments_lexer": "ipython3",
   "version": "3.11.7"
  }
 },
 "nbformat": 4,
 "nbformat_minor": 5
}
